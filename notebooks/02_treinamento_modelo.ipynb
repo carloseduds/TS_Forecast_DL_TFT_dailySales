{
 "cells": [
  {
   "cell_type": "markdown",
   "metadata": {},
   "source": [
    "# Treinamento do modelo"
   ]
  },
  {
   "cell_type": "code",
   "execution_count": 1,
   "metadata": {},
   "outputs": [],
   "source": [
    "import sys\n",
    "import os\n",
    "\n",
    "sys.path.append(os.path.abspath(\"..\"))"
   ]
  },
  {
   "cell_type": "code",
   "execution_count": 3,
   "metadata": {},
   "outputs": [],
   "source": [
    "import itertools\n",
    "import warnings\n",
    "\n",
    "import matplotlib.pyplot as plt\n",
    "import numpy as np\n",
    "import pandas as pd\n",
    "import seaborn as sns\n",
    "from prophet import Prophet\n",
    "from tqdm import tqdm\n",
    "\n",
    "import torch\n",
    "import torch.nn as nn\n",
    "import torch.optim as optim\n",
    "from pytorch_forecasting import TimeSeriesDataSet, RecurrentNetwork\n",
    "from pytorch_forecasting.metrics import QuantileLoss\n",
    "from pytorch_forecasting.data import GroupNormalizer\n",
    "from pytorch_forecasting.models import TemporalFusionTransformer\n",
    "from pytorch_forecasting.metrics import MAE, MAPE\n",
    "import lightning.pytorch as pl\n",
    "from lightning.pytorch.callbacks import EarlyStopping, LearningRateMonitor, ModelCheckpoint\n",
    "from lightning.pytorch.loggers import TensorBoardLogger\n",
    "\n",
    "\n",
    "from src.treinamento_modelo import (\n",
    "    expanding_window_split,\n",
    "    plotar_previsao,\n",
    "    previsao_naive,\n",
    "    previsao_snaive,\n",
    "    calcular_wmae_wmape,\n",
    "    previsao_prophet,\n",
    "    modelagem_lstm,\n",
    "    previsao_lstm,\n",
    "    previsao_tft\n",
    ")\n",
    "\n",
    "warnings.filterwarnings(\"ignore\")\n",
    "\n",
    "# Load the TensorBoard notebook extension\n",
    "#%load_ext tensorboard"
   ]
  },
  {
   "cell_type": "code",
   "execution_count": null,
   "metadata": {},
   "outputs": [],
   "source": [
    "# Carregando os dados processados\n",
    "df_sales_processed = pd.read_parquet(\"../data/processed/sales_cleaning_processed.parquet\")\n",
    "\n",
    "df_sales_processed.set_index(\"date\", inplace=True)\n",
    "df_sales_processed[\"series_id\"] = (\n",
    "    df_sales_processed[\"store_id\"] + \"_\" + df_sales_processed[\"cat_id\"]\n",
    ")"
   ]
  },
  {
   "cell_type": "code",
   "execution_count": 9,
   "metadata": {},
   "outputs": [
    {
     "name": "stdout",
     "output_type": "stream",
     "text": [
      "           store_id cat_id    sales  in_training\n",
      "date                                            \n",
      "2011-01-29     CA_1  FOODS  7240.65         True\n",
      "2011-01-30     CA_1  FOODS  6705.51         True\n",
      "2011-01-31     CA_1  FOODS  4584.85         True\n",
      "2011-02-01     CA_1  FOODS  4965.46         True\n",
      "2011-02-02     CA_1  FOODS  4368.07         True\n"
     ]
    }
   ],
   "source": [
    "# Verificando os dados\n",
    "print(df_sales_processed.head())\n"
   ]
  },
  {
   "cell_type": "markdown",
   "metadata": {},
   "source": [
    "A partir deste ponto, criaremos os modelos para a previsão no varejo. Inicialmente, construiremos um modelo base simples que servirá como benchmark para comparação com modelos mais complexos.\n",
    "\n",
    "Como ainda não sabemos qual algoritmo será mais adequado para os nossos dados, adotaremos uma abordagem exploratória. Primeiramente, testaremos diversos modelos de machine learning e deep learning utilizando seus hiperparâmetros padrão, a menos que ajustes sejam estritamente necessários.\n",
    "\n",
    "Após essa análise preliminar de desempenho, selecionaremos o modelo mais promissor e, então, aplicaremos técnicas de otimização para aprimorá-lo. Dessa forma, criaremos dois modelos: um baseline, que servirá como referência, e outro refinado, ajustado a partir dos insights obtidos na primeira etapa de experimentação."
   ]
  },
  {
   "cell_type": "markdown",
   "metadata": {},
   "source": [
    "## Modelo de Base"
   ]
  },
  {
   "cell_type": "code",
   "execution_count": null,
   "metadata": {},
   "outputs": [],
   "source": [
    "# Método Naive para a primeira divisão de CV\n",
    "training_df, _, test_df = expanding_window_split(df_sales_processed, 0, validation=False)\n",
    "naive_test_df = previsao_naive(training_df, test_df)\n",
    "naive_test_df.info()\n",
    "naive_test_df.head(3)"
   ]
  },
  {
   "cell_type": "markdown",
   "metadata": {},
   "source": [
    "Agora vamos plotar as previsões."
   ]
  },
  {
   "cell_type": "code",
   "execution_count": null,
   "metadata": {},
   "outputs": [],
   "source": [
    "# Plotando a previsão\n",
    "plotar_previsao(naive_test_df, \"TX_2_FOODS\", \"naive_pred\")"
   ]
  },
  {
   "cell_type": "markdown",
   "metadata": {},
   "source": [
    "A partir do nosso gráfico, podemos observar que as previsões do método **Naïve** são pouco informativas, pois resultam em uma linha horizontal constante. Isso era esperado, já que se trata de um modelo ingênuo.\n",
    "\n",
    "Agora, vamos implementar o método **sNaïve**. Diferente do método **Naïve**, que simplesmente utiliza o último valor observado como previsão para todos os períodos futuros, o método **sNaïve** leva em conta a sazonalidade dos dados. No nosso caso, a previsão para um determinado dia será baseada no valor observado no mesmo dia da semana anterior, considerando um período sazonal de **7 dias**, conforme identificado na fase de exploração dos dados. Isso permite que o modelo capture padrões recorrentes dentro da série temporal, tornando-o um baseline mais robusto para séries com comportamento sazonal."
   ]
  },
  {
   "cell_type": "code",
   "execution_count": null,
   "metadata": {},
   "outputs": [],
   "source": [
    "# previsões sNaive para a primeira divisão de CV\n",
    "training_df, _, test_df = expanding_window_split(df_sales_processed, 0, validation=False)\n",
    "snaive_test_df = previsao_snaive(training_df, test_df)\n",
    "snaive_test_df.info()\n",
    "snaive_test_df.head(10)"
   ]
  },
  {
   "cell_type": "markdown",
   "metadata": {},
   "source": [
    "Da mesma forma, vamos plotar as previsões do método **sNaïve** em comparação com as vendas reais para uma série temporal aleatória."
   ]
  },
  {
   "cell_type": "code",
   "execution_count": null,
   "metadata": {},
   "outputs": [],
   "source": [
    "plotar_previsao(snaive_test_df, \"TX_2_FOODS\", \"snaive_pred\")"
   ]
  },
  {
   "cell_type": "markdown",
   "metadata": {},
   "source": [
    "Desta vez, as previsões do método **sNaïve** parecem muito mais realistas, conseguindo, de certa forma, acompanhar as oscilações das vendas reais.  \n",
    "\n",
    "Sabemos, de forma intuitiva, que o método **sNaïve** é um baseline mais adequado do que o **Naïve**, pois consegue capturar padrões sazonais nos dados. No entanto, para avaliar seu desempenho de forma objetiva, podemos utilizar métricas como **MAE (Mean Absolute Error)** e **MAPE (Mean Absolute Percentage Error)**, que nos ajudam a quantificar a precisão das previsões.  \n",
    "\n",
    "De acordo com o Prof. **Rob Hyndman**, em seu [artigo](https://robjhyndman.com/papers/foresight.pdf), existem quatro tipos principais de métricas para avaliação de previsões em séries temporais. No nosso caso, utilizaremos **MAE** e **MAPE** para cada série individualmente.  \n",
    "\n",
    "Além disso, como estamos lidando com múltiplas séries temporais, precisamos calcular um escore geral ponderado que combine todas elas. Para isso, seguimos a abordagem adotada na [Competição M5 do Kaggle](https://www.kaggle.com/c/m5-forecasting-accuracy/overview/evaluation), onde o peso de cada série é baseado no total de vendas em dólares das últimas **28 observações** do conjunto de treinamento. Essa ponderação garante que séries com maior impacto nas vendas tenham maior influência na métrica final, proporcionando uma avaliação mais representativa da performance do modelo."
   ]
  },
  {
   "cell_type": "code",
   "execution_count": null,
   "metadata": {},
   "outputs": [],
   "source": [
    "# Lista de métodos de previsão e seus respectivos nomes de coluna no DataFrame\n",
    "metodos_previsao = [(previsao_naive, \"naive_pred\"), (previsao_snaive, \"snaive_pred\")]\n",
    "\n",
    "cv = 3\n",
    "resultados_naive = []\n",
    "\n",
    "for metodo, nome_previsto in metodos_previsao:\n",
    "    wmae_lista = []\n",
    "    wmape_lista = []\n",
    "\n",
    "    for i in range(cv):\n",
    "        training_df, _, test_df = expanding_window_split(df_sales_processed, i, validation=False)\n",
    "        test_df_previsto = metodo(training_df, test_df)  # Aplica o método de previsão\n",
    "        wmae, wmape = calcular_wmae_wmape(training_df, test_df_previsto, \"sales\", nome_previsto)\n",
    "\n",
    "        wmae_lista.append(wmae)\n",
    "        wmape_lista.append(wmape)\n",
    "\n",
    "    # Armazena os resultados em uma lista\n",
    "    resultados_naive.append(\n",
    "        {\n",
    "            \"Modelo\": nome_previsto,\n",
    "            \"WMAE - Média CV\": np.mean(wmae_lista),\n",
    "            \"WMAE - Desvio Padrão CV\": np.std(wmae_lista),\n",
    "            \"WMAPE - Média CV\": np.mean(wmape_lista),\n",
    "            \"WMAPE - Desvio Padrão CV\": np.std(wmape_lista),\n",
    "        }\n",
    "    )\n",
    "\n",
    "# Criando DataFrame com os resultados de ambos os métodos\n",
    "df_resultados_naive = pd.DataFrame(resultados_naive)\n",
    "\n",
    "# Exibir os resultados formatados\n",
    "df_resultados_naive"
   ]
  },
  {
   "cell_type": "markdown",
   "metadata": {},
   "source": [
    "Com base no WMAE (Erro Absoluto Médio Ponderado) calculado a partir da validação cruzada em três divisões, o método sNaïve apresenta um erro quase 50% menor em comparação com o método Naïve.\n",
    "\n",
    "Da mesma forma, ao analisar o WMAPE (Erro Percentual Absoluto Médio Ponderado), observamos que o modelo sNaïve também supera o Naïve, confirmando sua melhor capacidade de capturar padrões sazonais nos dados.\n",
    "\n",
    "Diante desses resultados, adotaremos o sNaïve como nosso baseline para as previsões."
   ]
  },
  {
   "cell_type": "markdown",
   "metadata": {},
   "source": [
    "## Prophet"
   ]
  },
  {
   "cell_type": "markdown",
   "metadata": {},
   "source": [
    "O Prophet é um modelo desenvolvido pelo Facebook, especialmente projetado para a previsão de séries temporais com sazonalidades, tendências e eventos especiais. Ele se destaca por sua facilidade de uso, capacidade de capturar padrões complexos e robustez na presença de dados irregulares ou lacunas."
   ]
  },
  {
   "cell_type": "code",
   "execution_count": null,
   "metadata": {},
   "outputs": [],
   "source": [
    "# Executar modelo Prophet para a primeira divisão de CV\n",
    "cv = 0\n",
    "training_df, validation_df, test_df = expanding_window_split(df_sales_processed, cv, validation=True)\n",
    "prophet_test_df = previsao_prophet(training_df, validation_df, cv)\n",
    "prophet_test_df.info()\n",
    "prophet_test_df.head(3)"
   ]
  },
  {
   "cell_type": "code",
   "execution_count": null,
   "metadata": {},
   "outputs": [],
   "source": [
    "# plot Prophet predictions against actual sales\n",
    "plotar_previsao(prophet_test_df, \"TX_1_FOODS\", \"prophet_pred\")"
   ]
  },
  {
   "cell_type": "code",
   "execution_count": null,
   "metadata": {},
   "outputs": [],
   "source": [
    "# Lista de métodos de previsão e seus respectivos nomes de coluna no DataFrame\n",
    "metodos_previsao = [(previsao_prophet, \"prophet_pred\")]\n",
    "\n",
    "cv = 3\n",
    "resultados_prophet = []\n",
    "\n",
    "for metodo, nome_previsto in metodos_previsao:\n",
    "    wmae_lista = []\n",
    "    wmape_lista = []\n",
    "\n",
    "    for i in range(cv):\n",
    "        training_df, _, test_df = expanding_window_split(df_sales_processed, i, validation=False)\n",
    "        test_df_previsto = metodo(training_df, test_df, 0)\n",
    "        wmae, wmape = calcular_wmae_wmape(training_df, test_df_previsto, \"sales\", nome_previsto)\n",
    "\n",
    "        wmae_lista.append(wmae)\n",
    "        wmape_lista.append(wmape)\n",
    "\n",
    "    # Armazena os resultados em uma lista\n",
    "    resultados_prophet.append(\n",
    "        {\n",
    "            \"Modelo\": nome_previsto,\n",
    "            \"WMAE - Média CV\": np.mean(wmae_lista),\n",
    "            \"WMAE - Desvio Padrão CV\": np.std(wmae_lista),\n",
    "            \"WMAPE - Média CV\": np.mean(wmape_lista),\n",
    "            \"WMAPE - Desvio Padrão CV\": np.std(wmape_lista),\n",
    "        }\n",
    "    )\n",
    "\n",
    "# Criando DataFrame com os resultados de ambos os métodos\n",
    "df_resultados_prophet = pd.DataFrame(resultados_prophet)\n",
    "\n",
    "# Exibir os resultados formatados\n",
    "df_resultados_geral = pd.concat([df_resultados_naive, df_resultados_prophet])"
   ]
  },
  {
   "cell_type": "markdown",
   "metadata": {},
   "source": [
    "Podemos observar que o **Prophet** apresentou um desempenho superior aos métodos de previsão **Naïve** e **sNaïve**. Esse resultado pode ser atribuído à sua capacidade de capturar tanto **sazonalidades** quanto **tendências** presentes nos dados, resultando em erros significativamente menores.  \n",
    "\n",
    "Além disso, o **Prophet** é um modelo robusto e de fácil implementação, o que o torna uma excelente opção para previsões de séries temporais, especialmente quando há padrões complexos que os métodos ingênuos não conseguem captar adequadamente.  \n",
    "\n",
    "Até o momento, esse modelo seria a melhor opção para realizarmos o **ajuste fino**, visando otimizar ainda mais as previsões. No entanto, também consideramos testar um modelo de **deep learning** para avaliar se conseguimos obter um desempenho ainda melhor."
   ]
  },
  {
   "cell_type": "markdown",
   "metadata": {},
   "source": [
    "## LSTM"
   ]
  },
  {
   "cell_type": "markdown",
   "metadata": {},
   "source": [
    "O modelo **LSTM (Long Short-Term Memory)** é um tipo de rede neural recorrente (RNN) projetado para lidar com **dados sequenciais**, sendo amplamente utilizado em **séries temporais** devido à sua capacidade de capturar dependências de longo prazo. Diferente das RNNs tradicionais, o **LSTM** resolve o problema do **desvanecimento do gradiente**, permitindo que o modelo retenha informações relevantes ao longo do tempo.  \n",
    "\n",
    "No contexto de séries temporais, o **LSTM** é capaz de identificar **padrões não lineares, tendências e sazonalidades**, tornando-se uma abordagem poderosa para previsões. Ele pode ser aplicado em diversas áreas, como previsão de demanda, detecção de anomalias e modelagem financeira, oferecendo uma alternativa robusta aos métodos estatísticos tradicionais.  \n",
    "\n",
    "Neste projeto, exploramos o **LSTM** como uma solução avançada para melhorar a precisão das previsões, aproveitando sua capacidade de aprender padrões complexos nos dados e adaptar-se a variações dinâmicas ao longo do tempo."
   ]
  },
  {
   "cell_type": "code",
   "execution_count": null,
   "metadata": {},
   "outputs": [],
   "source": [
    "df_sales_processed_lstm = df_sales_processed.copy()\n",
    "df_sales_processed_lstm.reset_index(inplace=True, drop=False)"
   ]
  },
  {
   "cell_type": "code",
   "execution_count": null,
   "metadata": {},
   "outputs": [],
   "source": [
    "df_sales_processed_lstm[\"time_idx\"] = (\n",
    "    df_sales_processed_lstm[\"date\"] - df_sales_processed_lstm[\"date\"].min()\n",
    ").dt.days\n",
    "df_sales_processed_lstm.head(3)"
   ]
  },
  {
   "cell_type": "code",
   "execution_count": null,
   "metadata": {},
   "outputs": [],
   "source": [
    "# Dividindo os dados em conjuntos de treinamento, validação e teste\n",
    "training_df, validation_df, test_df = expanding_window_split(\n",
    "    df_sales_processed_lstm, 1, validation=True\n",
    ")\n",
    "\n",
    "# Criando e configurando o modelo LSTM, juntamente com o treinador e os dataloaders\n",
    "model, trainer, train_dataloader, val_dataloader, test_dataloader = modelagem_lstm(\n",
    "    training_df, validation_df, test_df, max_epochs=20\n",
    ")\n",
    "\n",
    "# Treinando o modelo LSTM\n",
    "trainer.fit(\n",
    "    model,\n",
    "    train_dataloaders=train_dataloader,\n",
    "    val_dataloaders=val_dataloader,\n",
    ")\n",
    "\n",
    "# Obtendo as previsões do modelo LSTM para o conjunto de teste\n",
    "test_df_previsto = previsao_lstm(trainer, test_dataloader, test_df)"
   ]
  },
  {
   "cell_type": "code",
   "execution_count": null,
   "metadata": {},
   "outputs": [],
   "source": [
    "# extrair previsões do melhor checkpoint do modelo\n",
    "best_model_path = trainer.checkpoint_callback.best_model_path\n",
    "best_model = RecurrentNetwork.load_from_checkpoint(best_model_path)"
   ]
  },
  {
   "cell_type": "code",
   "execution_count": null,
   "metadata": {},
   "outputs": [],
   "source": [
    "# visualizar as previsões do nosso modelo\n",
    "# com base na documentação do pytorch-forecasting, a saída de predict é uma tupla de previsão com os campos prediction, x, index, decoder_lengths, y\n",
    "# https://pytorch-forecasting.readthedocs.io/en/stable/api/pytorch_forecasting.models.base_model.BaseModel.html#pytorch_forecasting.models.base_model.BaseModel.predict\n",
    "raw_predictions, x, _, _, _ = best_model.predict(test_dataloader, mode=\"raw\", return_x=True)\n",
    "\n",
    "for idx in range(2):  # plotar 3 exemplos\n",
    "    best_model.plot_prediction(x, raw_predictions, idx=idx, add_loss_to_title=True)"
   ]
  },
  {
   "cell_type": "code",
   "execution_count": null,
   "metadata": {},
   "outputs": [],
   "source": [
    "# computes the cross-validated weighted MAE and MAPE for a model\n",
    "wmae_lista = []\n",
    "wmape_lista = []\n",
    "cv = 3\n",
    "max_epochs = 20\n",
    "\n",
    "resultados_lstm = []\n",
    "\n",
    "nome_previsto = \"lstm_pred\"\n",
    "\n",
    "for i in range(cv):\n",
    "    training_df, validation_df, test_df = expanding_window_split(\n",
    "        df_sales_processed_lstm, i, validation=True\n",
    "    )\n",
    "    model, trainer, train_dataloader, val_dataloader, test_dataloader = modelagem_lstm(\n",
    "        training_df, validation_df, test_df, max_epochs=max_epochs\n",
    "    )\n",
    "\n",
    "    test_df_previsto = previsao_lstm(\n",
    "        trainer, model, train_dataloader, val_dataloader, test_dataloader, test_df\n",
    "    )\n",
    "\n",
    "    wmae, wmape = calcular_wmae_wmape(training_df, test_df_previsto, \"sales\", nome_previsto)\n",
    "\n",
    "    wmae_lista.append(wmae)\n",
    "    wmape_lista.append(wmape)\n",
    "\n",
    "# Armazena os resultados em uma lista\n",
    "resultados_lstm.append(\n",
    "    {\n",
    "        \"Modelo\": nome_previsto,\n",
    "        \"WMAE - Média CV\": np.mean(wmae_lista),\n",
    "        \"WMAE - Desvio Padrão CV\": np.std(wmae_lista),\n",
    "        \"WMAPE - Média CV\": np.mean(wmape_lista),\n",
    "        \"WMAPE - Desvio Padrão CV\": np.std(wmape_lista),\n",
    "    }\n",
    ")\n",
    "\n",
    "# Criando DataFrame com os resultados de ambos os métodos\n",
    "df_resultados_lstm = pd.DataFrame(resultados_lstm)\n",
    "\n",
    "# Exibir os resultados formatados\n",
    "# df_resultados_geral = pd.concat([df_resultados_geral, df_resultados_lstm])"
   ]
  },
  {
   "cell_type": "code",
   "execution_count": null,
   "metadata": {},
   "outputs": [],
   "source": [
    "df_resultados_lstm"
   ]
  },
  {
   "cell_type": "markdown",
   "metadata": {},
   "source": [
    "O nosso modelo **LSTM** apresentou um melhor desempenho comparado ao método **Prophet**, demonstrando uma capacidade superior de capturar padrões complexos nos dados. Embora o **Prophet** tenha se saído melhor que os métodos **Naïve** e **sNaïve**, reduzindo significativamente os erros por conseguir modelar sazonalidades e tendências, o **LSTM** conseguiu superar esses resultados.  \n",
    "\n",
    "Isso pode ser atribuído à capacidade das redes neurais recorrentes de aprender **padrões não lineares e dependências de longo prazo**, tornando-as mais eficazes em séries temporais mais complexas.  \n",
    "\n",
    "Diante desse cenário, o **LSTM** se torna a melhor opção para seguirmos com o **ajuste fino**, buscando otimizar ainda mais seu desempenho. No entanto, seguimos explorando outras abordagens para garantir que estamos utilizando o modelo mais adequado ao nosso problema. Apesar do desempenho superior, ainda podemos testar mais um modelo chamado TFT."
   ]
  },
  {
   "cell_type": "markdown",
   "metadata": {},
   "source": [
    "## Temporal Fusion Transformer (TFT)"
   ]
  },
  {
   "cell_type": "markdown",
   "metadata": {},
   "source": [
    "O **Temporal Fusion Transformer (TFT)** é um modelo de **deep learning** projetado para modelagem de séries temporais, sendo capaz de lidar tanto com **séries multivariadas** quanto com **séries univariadas**. Sua principal vantagem está na combinação de **atenção multi-head** e **redes LSTM**, permitindo capturar **relações complexas entre variáveis** e aprender **padrões temporais de curto e longo prazo** com alta precisão.  \n",
    "\n",
    "Embora seja amplamente utilizado para **séries temporais multivariadas**, o **TFT** também se mostra eficiente em **séries univariadas**, aproveitando sua estrutura para identificar **tendências, sazonalidades e mudanças de padrão ao longo do tempo**, sem a necessidade de múltiplas variáveis auxiliares. Além disso, sua capacidade de **quantificar a importância das entradas** o torna altamente interpretável, algo que nem sempre é possível com modelos de redes neurais tradicionais.  \n",
    "\n",
    "Neste projeto, utilizamos o **TFT** como uma abordagem avançada para previsão de séries temporais, explorando sua flexibilidade para capturar padrões **tanto em contextos univariados quanto multivariados**, garantindo previsões mais precisas e interpretáveis."
   ]
  },
  {
   "cell_type": "code",
   "execution_count": 4,
   "metadata": {},
   "outputs": [
    {
     "data": {
      "text/html": [
       "<div>\n",
       "<style scoped>\n",
       "    .dataframe tbody tr th:only-of-type {\n",
       "        vertical-align: middle;\n",
       "    }\n",
       "\n",
       "    .dataframe tbody tr th {\n",
       "        vertical-align: top;\n",
       "    }\n",
       "\n",
       "    .dataframe thead th {\n",
       "        text-align: right;\n",
       "    }\n",
       "</style>\n",
       "<table border=\"1\" class=\"dataframe\">\n",
       "  <thead>\n",
       "    <tr style=\"text-align: right;\">\n",
       "      <th></th>\n",
       "      <th>date</th>\n",
       "      <th>store_id</th>\n",
       "      <th>cat_id</th>\n",
       "      <th>sales</th>\n",
       "      <th>series_id</th>\n",
       "      <th>sales_detrend</th>\n",
       "      <th>anomaly</th>\n",
       "      <th>time_idx</th>\n",
       "    </tr>\n",
       "  </thead>\n",
       "  <tbody>\n",
       "    <tr>\n",
       "      <th>0</th>\n",
       "      <td>2011-01-29</td>\n",
       "      <td>CA_1</td>\n",
       "      <td>FOODS</td>\n",
       "      <td>7240.65</td>\n",
       "      <td>CA_1_FOODS</td>\n",
       "      <td>1494.960186</td>\n",
       "      <td>False</td>\n",
       "      <td>0</td>\n",
       "    </tr>\n",
       "    <tr>\n",
       "      <th>1</th>\n",
       "      <td>2011-01-30</td>\n",
       "      <td>CA_1</td>\n",
       "      <td>FOODS</td>\n",
       "      <td>6705.51</td>\n",
       "      <td>CA_1_FOODS</td>\n",
       "      <td>958.505114</td>\n",
       "      <td>False</td>\n",
       "      <td>1</td>\n",
       "    </tr>\n",
       "    <tr>\n",
       "      <th>2</th>\n",
       "      <td>2011-01-31</td>\n",
       "      <td>CA_1</td>\n",
       "      <td>FOODS</td>\n",
       "      <td>4584.85</td>\n",
       "      <td>CA_1_FOODS</td>\n",
       "      <td>-1163.469957</td>\n",
       "      <td>False</td>\n",
       "      <td>2</td>\n",
       "    </tr>\n",
       "  </tbody>\n",
       "</table>\n",
       "</div>"
      ],
      "text/plain": [
       "        date store_id cat_id    sales   series_id  sales_detrend  anomaly  \\\n",
       "0 2011-01-29     CA_1  FOODS  7240.65  CA_1_FOODS    1494.960186    False   \n",
       "1 2011-01-30     CA_1  FOODS  6705.51  CA_1_FOODS     958.505114    False   \n",
       "2 2011-01-31     CA_1  FOODS  4584.85  CA_1_FOODS   -1163.469957    False   \n",
       "\n",
       "   time_idx  \n",
       "0         0  \n",
       "1         1  \n",
       "2         2  "
      ]
     },
     "execution_count": 4,
     "metadata": {},
     "output_type": "execute_result"
    }
   ],
   "source": [
    "# Copia o dataframe df_sales_processed\n",
    "df_sales_processed_transformer = df_sales_processed.copy()\n",
    "\n",
    "# Reseta o índice do dataframe e cria a coluna \"t\n",
    "# ime_idx\" com a diferença em dias desde a data mínima\n",
    "df_sales_processed_transformer.reset_index(inplace=True, drop=False)\n",
    "df_sales_processed_transformer[\"time_idx\"] = (\n",
    "    df_sales_processed_transformer[\"date\"] - df_sales_processed_transformer[\"date\"].min()\n",
    ").dt.days\n",
    "\n",
    "# Exibe as primeiras 3 linhas do dataframe\n",
    "df_sales_processed_transformer.head(3)"
   ]
  },
  {
   "cell_type": "code",
   "execution_count": 10,
   "metadata": {},
   "outputs": [
    {
     "name": "stderr",
     "output_type": "stream",
     "text": [
      "GPU available: True (cuda), used: True\n",
      "TPU available: False, using: 0 TPU cores\n",
      "HPU available: False, using: 0 HPUs\n"
     ]
    },
    {
     "name": "stdout",
     "output_type": "stream",
     "text": [
      "Number of parameters in network: 1087.7k\n"
     ]
    }
   ],
   "source": [
    "# Configuração do lookback (7 dias -> 168 horas)\n",
    "lookback = 168  # Ajuste se necessário\n",
    "\n",
    "# Comprimento da janela de previsão\n",
    "janela_previsao = 28\n",
    "\n",
    "# Divisão dos dados utilizando expanding_window_split\n",
    "training_df, validation_df, test_df = expanding_window_split(\n",
    "    df_sales_processed_transformer, 0, validation=True\n",
    ")\n",
    "\n",
    "# Criação do conjunto de dados de treino\n",
    "dados_treino = TimeSeriesDataSet(\n",
    "    training_df,  # Dados já filtrados\n",
    "    time_idx=\"time_idx\",\n",
    "    target=\"sales\",\n",
    "    group_ids=[\"series_id\"],\n",
    "    min_encoder_length=lookback // 2,\n",
    "    max_encoder_length=lookback,\n",
    "    static_categoricals=[\"series_id\"],\n",
    "    min_prediction_length=1,\n",
    "    max_prediction_length=janela_previsao,\n",
    "    time_varying_known_reals=[\"time_idx\"],\n",
    "    time_varying_unknown_reals=[\"sales\"],\n",
    ")\n",
    "\n",
    "# Criação do conjunto de dados de validação (garante a sequência contínua)\n",
    "dados_valid = TimeSeriesDataSet.from_dataset(\n",
    "    dados_treino,\n",
    "    pd.concat([training_df, validation_df]).reset_index(drop=True),\n",
    "    predict=True,\n",
    "    stop_randomization=True,\n",
    ")\n",
    "\n",
    "# Criação dos DataLoaders\n",
    "dl_treino = dados_treino.to_dataloader(train=True, batch_size=32, num_workers=2, pin_memory=True)\n",
    "dl_valid = dados_valid.to_dataloader(train=False, batch_size=32, num_workers=2, pin_memory=True)\n",
    "\n",
    "# Callbacks\n",
    "early_stop_callback = EarlyStopping(\n",
    "    monitor=\"val_loss\", min_delta=1e-4, patience=5, verbose=True, mode=\"min\"\n",
    ")\n",
    "lr_logger = LearningRateMonitor()\n",
    "\n",
    "checkpoint_callback = ModelCheckpoint(\n",
    "    monitor=\"val_loss\",\n",
    "    mode=\"min\",\n",
    "    save_top_k=1,\n",
    "    verbose=True,\n",
    ")\n",
    "\n",
    "# Logger para o TensorBoard\n",
    "logger = TensorBoardLogger(\"../reports/lightning_logs\")\n",
    "\n",
    "# Configuração do Trainer\n",
    "trainer = pl.Trainer(\n",
    "    max_epochs=3,\n",
    "    accelerator=\"gpu\",\n",
    "    enable_model_summary=True,\n",
    "    gradient_clip_val=0.1,\n",
    "    callbacks=[lr_logger, early_stop_callback, checkpoint_callback],\n",
    "    logger=logger,\n",
    ")\n",
    "\n",
    "quantis = [0.1, 0.5, 0.9]\n",
    "\n",
    "# Criação do modelo utilizando o TemporalFusionTransformer\n",
    "modelo_tft = TemporalFusionTransformer.from_dataset(\n",
    "    dados_treino,\n",
    "    learning_rate=0.00020417379446695298,\n",
    "    hidden_size=128,\n",
    "    attention_head_size=4,\n",
    "    dropout=0.1,\n",
    "    hidden_continuous_size=128,\n",
    "    output_size=len(quantis),\n",
    "    loss=QuantileLoss(quantis),\n",
    "    reduce_on_plateau_patience=4,\n",
    ")\n",
    "\n",
    "print(f\"Number of parameters in network: {modelo_tft.size() / 1e3:.1f}k\")"
   ]
  },
  {
   "cell_type": "markdown",
   "metadata": {},
   "source": [
    "O **Temporal Fusion Transformer (TFT)** permite otimizar o treinamento encontrando automaticamente uma **taxa de aprendizado inicial ideal** usando o **Tuner do PyTorch Lightning**. A função **`lr_find()`** testa diferentes valores e sugere a melhor taxa para acelerar o aprendizado e evitar problemas como **convergência lenta ou overfitting**. No entanto, para o **TFT**, a taxa ideal costuma ser **ligeiramente menor do que a sugerida**, pois o modelo é sensível a variações. Ajustes finos são recomendados para garantir um treinamento eficiente e de alto desempenho. 🚀"
   ]
  },
  {
   "cell_type": "code",
   "execution_count": 11,
   "metadata": {},
   "outputs": [
    {
     "name": "stderr",
     "output_type": "stream",
     "text": [
      "LOCAL_RANK: 0 - CUDA_VISIBLE_DEVICES: [0]\n",
      "Finding best initial lr:  90%|█████████ | 90/100 [00:06<00:00, 13.93it/s]\n",
      "LR finder stopped early after 90 steps due to diverging loss.\n",
      "Learning rate set to 0.00023988329190194915\n",
      "Restoring states from the checkpoint path at d:\\Estudo_Pessoal\\Portifolio\\ciencia_de_dados\\ts_forecast_dl_tft_dailysales\\notebooks\\.lr_find_e65b8e9b-8d72-4ac8-9087-9e85b6fe6f41.ckpt\n",
      "Restored all states from the checkpoint at d:\\Estudo_Pessoal\\Portifolio\\ciencia_de_dados\\ts_forecast_dl_tft_dailysales\\notebooks\\.lr_find_e65b8e9b-8d72-4ac8-9087-9e85b6fe6f41.ckpt\n"
     ]
    },
    {
     "name": "stdout",
     "output_type": "stream",
     "text": [
      "suggested learning rate: 0.00023988329190194915\n"
     ]
    },
    {
     "data": {
      "image/png": "[encoded data removed]",
      "text/plain": [
       "<Figure size 640x480 with 1 Axes>"
      ]
     },
     "metadata": {},
     "output_type": "display_data"
    }
   ],
   "source": [
    "# Encontra a taxa de aprendizagem ideal\n",
    "res = pl.tuner.Tuner(trainer).lr_find(\n",
    "    modelo_tft,\n",
    "    train_dataloaders=dl_treino,\n",
    "    val_dataloaders=dl_valid,\n",
    "    max_lr=10.0,\n",
    "    min_lr=1e-6,\n",
    ")\n",
    "\n",
    "print(f\"suggested learning rate: {res.suggestion()}\")\n",
    "fig = res.plot(show=True, suggest=True)\n",
    "fig.show()"
   ]
  },
  {
   "cell_type": "code",
   "execution_count": null,
   "metadata": {},
   "outputs": [],
   "source": [
    "trainer.fit(modelo_tft, train_dataloaders=dl_treino, val_dataloaders=dl_valid)\n",
    "\n",
    "# Carregar o melhor modelo salvo pelo checkpoint\n",
    "best_model_path = trainer.checkpoint_callback.best_model_path\n",
    "best_model = TemporalFusionTransformer.load_from_checkpoint(best_model_path)"
   ]
  },
  {
   "cell_type": "code",
   "execution_count": null,
   "metadata": {},
   "outputs": [],
   "source": [
    "# Escolha um índice válido para visualizar uma amostra específica\n",
    "idx = 0\n",
    "\n",
    "# Gera previsões com base no conjunto de validação\n",
    "raw_predictions, x, _, _, _ = best_model.predict(dl_valid, mode=\"raw\", return_x=True)\n",
    "\n",
    "# Faz o plot usando o método interno do modelo\n",
    "fig = best_model.plot_prediction(x, raw_predictions, idx=idx, add_loss_to_title=True)\n",
    "fig.show()"
   ]
  },
  {
   "cell_type": "code",
   "execution_count": null,
   "metadata": {},
   "outputs": [],
   "source": [
    "def previsao_tft(training_df, validation_df, test_df, i, max_epochs=6):\n",
    "    \"\"\"\n",
    "    Treina o modelo TFT e faz previsões para um conjunto de teste.\n",
    "\n",
    "    Parâmetros:\n",
    "        - training_df (DataFrame): Dados de treino.\n",
    "        - validation_df (DataFrame): Dados de validação.\n",
    "        - test_df (DataFrame): Dados de teste.\n",
    "        - i (int): Índice da rodada de validação cruzada.\n",
    "        - max_epochs (int): Número máximo de épocas de treinamento.\n",
    "\n",
    "    Retorna:\n",
    "        - test_df com as previsões adicionadas.\n",
    "    \"\"\"\n",
    "    val_idx = validation_df[\"time_idx\"].min()\n",
    "    test_idx = test_df[\"time_idx\"].min()\n",
    "\n",
    "    quantis = [0.1, 0.5, 0.9]\n",
    "\n",
    "    dados_treino = TimeSeriesDataSet(\n",
    "        training_df,\n",
    "        time_idx=\"time_idx\",\n",
    "        target=\"sales\",\n",
    "        group_ids=[\"series_id\"],\n",
    "        min_encoder_length=168 // 2,\n",
    "        max_encoder_length=168,\n",
    "        static_categoricals=[\"series_id\"],\n",
    "        min_prediction_length=1,\n",
    "        max_prediction_length=28,\n",
    "        time_varying_known_reals=[\"time_idx\"],\n",
    "        time_varying_unknown_reals=[\"sales\"],\n",
    "    )\n",
    "\n",
    "    validation_data = TimeSeriesDataSet.from_dataset(\n",
    "        dados_treino,\n",
    "        pd.concat([training_df, validation_df]).reset_index(drop=True),\n",
    "        min_prediction_idx=val_idx,\n",
    "        predict=True,\n",
    "        stop_randomization=True,\n",
    "    )\n",
    "\n",
    "    test_data = TimeSeriesDataSet.from_dataset(\n",
    "        dados_treino,\n",
    "        pd.concat([training_df, validation_df, test_df]).reset_index(drop=True),\n",
    "        min_prediction_idx=test_idx,\n",
    "        predict=True,\n",
    "        stop_randomization=True,\n",
    "    )\n",
    "\n",
    "    # Criando DataLoaders\n",
    "    dl_treino = dados_treino.to_dataloader(\n",
    "        train=True, batch_size=32, num_workers=2, pin_memory=True\n",
    "    )\n",
    "    dl_valid = validation_data.to_dataloader(\n",
    "        train=False, batch_size=32, num_workers=2, pin_memory=True\n",
    "    )\n",
    "    dl_teste = test_data.to_dataloader(\n",
    "        train=False, batch_size=32, num_workers=2, pin_memory=True\n",
    "    )\n",
    "\n",
    "    trainer = pl.Trainer(\n",
    "        max_epochs=max_epochs,\n",
    "        accelerator=\"gpu\",\n",
    "        gradient_clip_val=0.1,\n",
    "        callbacks=[\n",
    "            EarlyStopping(monitor=\"val_loss\", patience=5, mode=\"min\"),\n",
    "            ModelCheckpoint(monitor=\"val_loss\", mode=\"min\", save_top_k=1),\n",
    "        ],\n",
    "        logger=TensorBoardLogger(\"../reports/lightning_logs\", name=f\"tft_cv_fold_{i}\"),\n",
    "    )\n",
    "\n",
    "    modelo_tft = TemporalFusionTransformer.from_dataset(\n",
    "        dados_treino,\n",
    "        learning_rate=0.00023,\n",
    "        hidden_size=128,\n",
    "        dropout=0.1,\n",
    "        loss=QuantileLoss(quantis),\n",
    "    )\n",
    "\n",
    "    trainer.fit(\n",
    "        modelo_tft,\n",
    "        train_dataloaders=dl_treino,\n",
    "        val_dataloaders=dl_valid,\n",
    "    )\n",
    "    # Carregar o melhor modelo salvo durante o treinamento\n",
    "    best_model_path = trainer.checkpoint_callback.best_model_path\n",
    "    best_model = TemporalFusionTransformer.load_from_checkpoint(best_model_path)\n",
    "\n",
    "    # Fazer previsões com o modelo treinado\n",
    "    predictions, _, index, _, _ = best_model.predict(dl_teste, return_index=True)\n",
    "\n",
    "    # Criar DataFrame com previsões\n",
    "    time_idx_start = index.loc[0, \"time_idx\"]\n",
    "    time_idx_end = time_idx_start + len(predictions[0])\n",
    "\n",
    "    predictions_df_wide = pd.DataFrame(\n",
    "        predictions.cpu().numpy(), columns=range(time_idx_start, time_idx_end)\n",
    "    )\n",
    "    predictions_df_wide[\"series_id\"] = index[\"series_id\"]\n",
    "    predictions_df = predictions_df_wide.melt(id_vars=[\"series_id\"])\n",
    "    predictions_df.rename(columns={\"variable\": \"time_idx\", \"value\": \"tft_pred\"}, inplace=True)\n",
    "\n",
    "    # Fazer merge com test_df\n",
    "    test_df_previsto = test_df.merge(predictions_df, on=[\"series_id\", \"time_idx\"], how=\"left\")\n",
    "\n",
    "    return test_df_previsto"
   ]
  },
  {
   "cell_type": "code",
   "execution_count": 14,
   "metadata": {},
   "outputs": [],
   "source": [
    "import os\n",
    "# Criar diretório para salvar o modelo final\n",
    "model_dir = \"../models/\""
   ]
  },
  {
   "cell_type": "code",
   "execution_count": 15,
   "metadata": {},
   "outputs": [
    {
     "name": "stderr",
     "output_type": "stream",
     "text": [
      "GPU available: True (cuda), used: True\n",
      "TPU available: False, using: 0 TPU cores\n",
      "HPU available: False, using: 0 HPUs\n",
      "LOCAL_RANK: 0 - CUDA_VISIBLE_DEVICES: [0]\n",
      "\n",
      "   | Name                               | Type                            | Params | Mode \n",
      "------------------------------------------------------------------------------------------------\n",
      "0  | loss                               | QuantileLoss                    | 0      | train\n",
      "1  | logging_metrics                    | ModuleList                      | 0      | train\n",
      "2  | input_embeddings                   | MultiEmbedding                  | 330    | train\n",
      "3  | prescalers                         | ModuleDict                      | 48     | train\n",
      "4  | static_variable_selection          | VariableSelectionNetwork        | 3.6 K  | train\n",
      "5  | encoder_variable_selection         | VariableSelectionNetwork        | 6.5 K  | train\n",
      "6  | decoder_variable_selection         | VariableSelectionNetwork        | 3.1 K  | train\n",
      "7  | static_context_variable_selection  | GatedResidualNetwork            | 66.3 K | train\n",
      "8  | static_context_initial_hidden_lstm | GatedResidualNetwork            | 66.3 K | train\n",
      "9  | static_context_initial_cell_lstm   | GatedResidualNetwork            | 66.3 K | train\n",
      "10 | static_context_enrichment          | GatedResidualNetwork            | 66.3 K | train\n",
      "11 | lstm_encoder                       | LSTM                            | 132 K  | train\n",
      "12 | lstm_decoder                       | LSTM                            | 132 K  | train\n",
      "13 | post_lstm_gate_encoder             | GatedLinearUnit                 | 33.0 K | train\n",
      "14 | post_lstm_add_norm_encoder         | AddNorm                         | 256    | train\n",
      "15 | static_enrichment                  | GatedResidualNetwork            | 82.7 K | train\n",
      "16 | multihead_attn                     | InterpretableMultiHeadAttention | 41.2 K | train\n",
      "17 | post_attn_gate_norm                | GateAddNorm                     | 33.3 K | train\n",
      "18 | pos_wise_ff                        | GatedResidualNetwork            | 66.3 K | train\n",
      "19 | pre_output_gate_norm               | GateAddNorm                     | 33.3 K | train\n",
      "20 | output_layer                       | Linear                          | 387    | train\n",
      "------------------------------------------------------------------------------------------------\n",
      "833 K     Trainable params\n",
      "0         Non-trainable params\n",
      "833 K     Total params\n",
      "3.333     Total estimated model params size (MB)\n",
      "210       Modules in train mode\n",
      "0         Modules in eval mode\n"
     ]
    },
    {
     "name": "stdout",
     "output_type": "stream",
     "text": [
      "Epoch 9: 100%|██████████| 1672/1672 [02:30<00:00, 11.10it/s, v_num=11, train_loss_step=167.0, val_loss=286.0, train_loss_epoch=165.0]\n"
     ]
    },
    {
     "name": "stderr",
     "output_type": "stream",
     "text": [
      "GPU available: True (cuda), used: True\n",
      "TPU available: False, using: 0 TPU cores\n",
      "HPU available: False, using: 0 HPUs\n",
      "LOCAL_RANK: 0 - CUDA_VISIBLE_DEVICES: [0]\n",
      "GPU available: True (cuda), used: True\n",
      "TPU available: False, using: 0 TPU cores\n",
      "HPU available: False, using: 0 HPUs\n",
      "LOCAL_RANK: 0 - CUDA_VISIBLE_DEVICES: [0]\n",
      "\n",
      "   | Name                               | Type                            | Params | Mode \n",
      "------------------------------------------------------------------------------------------------\n",
      "0  | loss                               | QuantileLoss                    | 0      | train\n",
      "1  | logging_metrics                    | ModuleList                      | 0      | train\n",
      "2  | input_embeddings                   | MultiEmbedding                  | 330    | train\n",
      "3  | prescalers                         | ModuleDict                      | 48     | train\n",
      "4  | static_variable_selection          | VariableSelectionNetwork        | 3.6 K  | train\n",
      "5  | encoder_variable_selection         | VariableSelectionNetwork        | 6.5 K  | train\n",
      "6  | decoder_variable_selection         | VariableSelectionNetwork        | 3.1 K  | train\n",
      "7  | static_context_variable_selection  | GatedResidualNetwork            | 66.3 K | train\n",
      "8  | static_context_initial_hidden_lstm | GatedResidualNetwork            | 66.3 K | train\n",
      "9  | static_context_initial_cell_lstm   | GatedResidualNetwork            | 66.3 K | train\n",
      "10 | static_context_enrichment          | GatedResidualNetwork            | 66.3 K | train\n",
      "11 | lstm_encoder                       | LSTM                            | 132 K  | train\n",
      "12 | lstm_decoder                       | LSTM                            | 132 K  | train\n",
      "13 | post_lstm_gate_encoder             | GatedLinearUnit                 | 33.0 K | train\n",
      "14 | post_lstm_add_norm_encoder         | AddNorm                         | 256    | train\n",
      "15 | static_enrichment                  | GatedResidualNetwork            | 82.7 K | train\n",
      "16 | multihead_attn                     | InterpretableMultiHeadAttention | 41.2 K | train\n",
      "17 | post_attn_gate_norm                | GateAddNorm                     | 33.3 K | train\n",
      "18 | pos_wise_ff                        | GatedResidualNetwork            | 66.3 K | train\n",
      "19 | pre_output_gate_norm               | GateAddNorm                     | 33.3 K | train\n",
      "20 | output_layer                       | Linear                          | 387    | train\n",
      "------------------------------------------------------------------------------------------------\n",
      "833 K     Trainable params\n",
      "0         Non-trainable params\n",
      "833 K     Total params\n",
      "3.333     Total estimated model params size (MB)\n",
      "210       Modules in train mode\n",
      "0         Modules in eval mode\n"
     ]
    },
    {
     "name": "stdout",
     "output_type": "stream",
     "text": [
      "Epoch 5: 100%|██████████| 1620/1620 [02:25<00:00, 11.10it/s, v_num=3, train_loss_step=188.0, val_loss=331.0, train_loss_epoch=172.0]\n"
     ]
    },
    {
     "name": "stderr",
     "output_type": "stream",
     "text": [
      "GPU available: True (cuda), used: True\n",
      "TPU available: False, using: 0 TPU cores\n",
      "HPU available: False, using: 0 HPUs\n",
      "LOCAL_RANK: 0 - CUDA_VISIBLE_DEVICES: [0]\n",
      "GPU available: True (cuda), used: True\n",
      "TPU available: False, using: 0 TPU cores\n",
      "HPU available: False, using: 0 HPUs\n",
      "LOCAL_RANK: 0 - CUDA_VISIBLE_DEVICES: [0]\n",
      "\n",
      "   | Name                               | Type                            | Params | Mode \n",
      "------------------------------------------------------------------------------------------------\n",
      "0  | loss                               | QuantileLoss                    | 0      | train\n",
      "1  | logging_metrics                    | ModuleList                      | 0      | train\n",
      "2  | input_embeddings                   | MultiEmbedding                  | 330    | train\n",
      "3  | prescalers                         | ModuleDict                      | 48     | train\n",
      "4  | static_variable_selection          | VariableSelectionNetwork        | 3.6 K  | train\n",
      "5  | encoder_variable_selection         | VariableSelectionNetwork        | 6.5 K  | train\n",
      "6  | decoder_variable_selection         | VariableSelectionNetwork        | 3.1 K  | train\n",
      "7  | static_context_variable_selection  | GatedResidualNetwork            | 66.3 K | train\n",
      "8  | static_context_initial_hidden_lstm | GatedResidualNetwork            | 66.3 K | train\n",
      "9  | static_context_initial_cell_lstm   | GatedResidualNetwork            | 66.3 K | train\n",
      "10 | static_context_enrichment          | GatedResidualNetwork            | 66.3 K | train\n",
      "11 | lstm_encoder                       | LSTM                            | 132 K  | train\n",
      "12 | lstm_decoder                       | LSTM                            | 132 K  | train\n",
      "13 | post_lstm_gate_encoder             | GatedLinearUnit                 | 33.0 K | train\n",
      "14 | post_lstm_add_norm_encoder         | AddNorm                         | 256    | train\n",
      "15 | static_enrichment                  | GatedResidualNetwork            | 82.7 K | train\n",
      "16 | multihead_attn                     | InterpretableMultiHeadAttention | 41.2 K | train\n",
      "17 | post_attn_gate_norm                | GateAddNorm                     | 33.3 K | train\n",
      "18 | pos_wise_ff                        | GatedResidualNetwork            | 66.3 K | train\n",
      "19 | pre_output_gate_norm               | GateAddNorm                     | 33.3 K | train\n",
      "20 | output_layer                       | Linear                          | 387    | train\n",
      "------------------------------------------------------------------------------------------------\n",
      "833 K     Trainable params\n",
      "0         Non-trainable params\n",
      "833 K     Total params\n",
      "3.333     Total estimated model params size (MB)\n",
      "210       Modules in train mode\n",
      "0         Modules in eval mode\n"
     ]
    },
    {
     "name": "stdout",
     "output_type": "stream",
     "text": [
      "Epoch 8: 100%|██████████| 1567/1567 [02:23<00:00, 10.89it/s, v_num=2, train_loss_step=156.0, val_loss=370.0, train_loss_epoch=157.0]\n"
     ]
    },
    {
     "name": "stderr",
     "output_type": "stream",
     "text": [
      "GPU available: True (cuda), used: True\n",
      "TPU available: False, using: 0 TPU cores\n",
      "HPU available: False, using: 0 HPUs\n",
      "LOCAL_RANK: 0 - CUDA_VISIBLE_DEVICES: [0]\n"
     ]
    },
    {
     "name": "stdout",
     "output_type": "stream",
     "text": [
      "Modelo final salvo em: ../models/tft_pred_final_model.pth\n"
     ]
    }
   ],
   "source": [
    "# Lista de métodos de previsão e seus respectivos nomes de coluna no DataFrame\n",
    "metodos_previsao = [\n",
    "    (previsao_tft, \"tft_pred\"),\n",
    "]\n",
    "\n",
    "cv = 3\n",
    "max_epochs = 20\n",
    "resultados_tft = []\n",
    "\n",
    "for metodo, nome_previsto in metodos_previsao:\n",
    "    wmae_lista = []\n",
    "    wmape_lista = []\n",
    "\n",
    "    # Inicializa o modelo uma única vez antes do CV\n",
    "    modelo_tft_final = None\n",
    "\n",
    "    for i in range(cv):\n",
    "        training_df, validation_df, test_df = expanding_window_split(\n",
    "            df_sales_processed_transformer, i, validation=True\n",
    "        )\n",
    "\n",
    "        test_df_previsto, modelo_tft = metodo(training_df, validation_df, test_df, i, max_epochs)\n",
    "\n",
    "        # Armazena o modelo treinado na última iteração\n",
    "        modelo_tft_final = modelo_tft\n",
    "        wmae, wmape = calcular_wmae_wmape(training_df, test_df_previsto, \"sales\", nome_previsto)\n",
    "\n",
    "        wmae_lista.append(wmae)\n",
    "        wmape_lista.append(wmape)\n",
    "\n",
    "    # Salvar o modelo final completo (depois do CV)\n",
    "    if modelo_tft_final:\n",
    "        final_model_path = os.path.join(model_dir, f\"{nome_previsto}_final_model.pth\")\n",
    "        torch.save(modelo_tft_final.state_dict(), final_model_path)\n",
    "        print(f\"Modelo final salvo em: {final_model_path}\")\n",
    "\n",
    "    # Armazena os resultados em uma lista\n",
    "    resultados_tft.append(\n",
    "        {\n",
    "            \"Modelo\": nome_previsto,\n",
    "            \"WMAE - Média CV\": np.mean(wmae_lista),\n",
    "            \"WMAE - Desvio Padrão CV\": np.std(wmae_lista),\n",
    "            \"WMAPE - Média CV\": np.mean(wmape_lista),\n",
    "            \"WMAPE - Desvio Padrão CV\": np.std(wmape_lista),\n",
    "        }\n",
    "    )\n",
    "\n",
    "# Criando DataFrame com os resultados de ambos os métodos\n",
    "df_resultados_tft = pd.DataFrame(resultados_tft)\n",
    "\n",
    "# Exibir os resultados formatados\n",
    "# df_resultados_geral = pd.concat([df_resultados_geral, df_resultados_tft])"
   ]
  },
  {
   "cell_type": "code",
   "execution_count": 16,
   "metadata": {},
   "outputs": [
    {
     "data": {
      "text/html": [
       "<div>\n",
       "<style scoped>\n",
       "    .dataframe tbody tr th:only-of-type {\n",
       "        vertical-align: middle;\n",
       "    }\n",
       "\n",
       "    .dataframe tbody tr th {\n",
       "        vertical-align: top;\n",
       "    }\n",
       "\n",
       "    .dataframe thead th {\n",
       "        text-align: right;\n",
       "    }\n",
       "</style>\n",
       "<table border=\"1\" class=\"dataframe\">\n",
       "  <thead>\n",
       "    <tr style=\"text-align: right;\">\n",
       "      <th></th>\n",
       "      <th>Modelo</th>\n",
       "      <th>WMAE - Média CV</th>\n",
       "      <th>WMAE - Desvio Padrão CV</th>\n",
       "      <th>WMAPE - Média CV</th>\n",
       "      <th>WMAPE - Desvio Padrão CV</th>\n",
       "    </tr>\n",
       "  </thead>\n",
       "  <tbody>\n",
       "    <tr>\n",
       "      <th>0</th>\n",
       "      <td>tft_pred</td>\n",
       "      <td>543.051025</td>\n",
       "      <td>3.419763</td>\n",
       "      <td>0.098488</td>\n",
       "      <td>0.007961</td>\n",
       "    </tr>\n",
       "  </tbody>\n",
       "</table>\n",
       "</div>"
      ],
      "text/plain": [
       "     Modelo  WMAE - Média CV  WMAE - Desvio Padrão CV  WMAPE - Média CV  \\\n",
       "0  tft_pred       543.051025                 3.419763          0.098488   \n",
       "\n",
       "   WMAPE - Desvio Padrão CV  \n",
       "0                  0.007961  "
      ]
     },
     "execution_count": 16,
     "metadata": {},
     "output_type": "execute_result"
    }
   ],
   "source": [
    "df_resultados_tft"
   ]
  },
  {
   "cell_type": "code",
   "execution_count": null,
   "metadata": {},
   "outputs": [],
   "source": [
    "df_resultados_geral"
   ]
  },
  {
   "cell_type": "markdown",
   "metadata": {},
   "source": [
    "O nosso modelo **TFT (Temporal Fusion Transformer)** apresentou um desempenho ainda melhor em comparação com o **LSTM**, mostrando uma capacidade superior de capturar padrões sazonais e tendências de forma mais eficiente. Embora o **LSTM** tenha superado o **Prophet**, reduzindo significativamente os erros ao aprender padrões não lineares e dependências de longo prazo, o **TFT** conseguiu ir além, combinando a flexibilidade das redes neurais com interpretabilidade aprimorada.  \n",
    "\n",
    "Isso se deve ao fato de que o **TFT** utiliza mecanismos avançados, como **atenção multi-head** e **redes LSTM**, permitindo modelar séries temporais tanto **univariadas quanto multivariadas**, além de atribuir pesos às variáveis mais relevantes para a previsão. Essa abordagem melhora a qualidade das previsões, tornando o modelo mais robusto e adaptável a diferentes cenários.  \n",
    "\n",
    "Diante desse resultado, o **TFT** se torna nossa melhor opção para avançarmos no projeto. Agora, seguimos para a próxima etapa: **a otimização dos hiperparâmetros**, garantindo que o modelo alcance seu desempenho máximo e forneça previsões ainda mais precisas."
   ]
  }
 ],
 "metadata": {
  "kernelspec": {
   "display_name": "Python 3 (ipykernel)",
   "language": "python",
   "name": "python3"
  },
  "language_info": {
   "codemirror_mode": {
    "name": "ipython",
    "version": 3
   },
   "file_extension": ".py",
   "mimetype": "text/x-python",
   "name": "python",
   "nbconvert_exporter": "python",
   "pygments_lexer": "ipython3",
   "version": "3.10.11"
  }
 },
 "nbformat": 4,
 "nbformat_minor": 4
}
